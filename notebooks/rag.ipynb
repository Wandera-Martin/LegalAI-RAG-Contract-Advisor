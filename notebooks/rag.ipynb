{
 "cells": [
  {
   "cell_type": "code",
   "execution_count": 42,
   "metadata": {},
   "outputs": [
    {
     "name": "stdout",
     "output_type": "stream",
     "text": [
      "Requirement already satisfied: langchain_community in /home/martin/Contract_Q-A_RAG/venv/lib/python3.10/site-packages (0.2.6)\n",
      "Requirement already satisfied: tiktoken in /home/martin/Contract_Q-A_RAG/venv/lib/python3.10/site-packages (0.7.0)\n",
      "Requirement already satisfied: langchain-openai in /home/martin/Contract_Q-A_RAG/venv/lib/python3.10/site-packages (0.1.14)\n",
      "Requirement already satisfied: langchainhub in /home/martin/Contract_Q-A_RAG/venv/lib/python3.10/site-packages (0.1.20)\n",
      "Requirement already satisfied: chromadb in /home/martin/Contract_Q-A_RAG/venv/lib/python3.10/site-packages (0.5.3)\n",
      "Requirement already satisfied: langchain in /home/martin/Contract_Q-A_RAG/venv/lib/python3.10/site-packages (0.2.6)\n",
      "Requirement already satisfied: PyYAML>=5.3 in /home/martin/Contract_Q-A_RAG/venv/lib/python3.10/site-packages (from langchain_community) (6.0.1)\n",
      "Requirement already satisfied: requests<3,>=2 in /home/martin/Contract_Q-A_RAG/venv/lib/python3.10/site-packages (from langchain_community) (2.32.3)\n",
      "Requirement already satisfied: langsmith<0.2.0,>=0.1.0 in /home/martin/Contract_Q-A_RAG/venv/lib/python3.10/site-packages (from langchain_community) (0.1.83)\n",
      "Requirement already satisfied: SQLAlchemy<3,>=1.4 in /home/martin/Contract_Q-A_RAG/venv/lib/python3.10/site-packages (from langchain_community) (2.0.31)\n",
      "Requirement already satisfied: langchain-core<0.3.0,>=0.2.10 in /home/martin/Contract_Q-A_RAG/venv/lib/python3.10/site-packages (from langchain_community) (0.2.11)\n",
      "Requirement already satisfied: dataclasses-json<0.7,>=0.5.7 in /home/martin/Contract_Q-A_RAG/venv/lib/python3.10/site-packages (from langchain_community) (0.6.7)\n",
      "Requirement already satisfied: aiohttp<4.0.0,>=3.8.3 in /home/martin/Contract_Q-A_RAG/venv/lib/python3.10/site-packages (from langchain_community) (3.9.5)\n",
      "Requirement already satisfied: tenacity!=8.4.0,<9.0.0,>=8.1.0 in /home/martin/Contract_Q-A_RAG/venv/lib/python3.10/site-packages (from langchain_community) (8.4.2)\n",
      "Requirement already satisfied: numpy<2,>=1 in /home/martin/Contract_Q-A_RAG/venv/lib/python3.10/site-packages (from langchain_community) (1.26.4)\n",
      "Requirement already satisfied: regex>=2022.1.18 in /home/martin/Contract_Q-A_RAG/venv/lib/python3.10/site-packages (from tiktoken) (2024.5.15)\n",
      "Requirement already satisfied: openai<2.0.0,>=1.32.0 in /home/martin/Contract_Q-A_RAG/venv/lib/python3.10/site-packages (from langchain-openai) (1.35.10)\n",
      "Requirement already satisfied: packaging<25,>=23.2 in /home/martin/Contract_Q-A_RAG/venv/lib/python3.10/site-packages (from langchainhub) (24.1)\n",
      "Requirement already satisfied: types-requests<3.0.0.0,>=2.31.0.2 in /home/martin/Contract_Q-A_RAG/venv/lib/python3.10/site-packages (from langchainhub) (2.32.0.20240622)\n",
      "Requirement already satisfied: typing-extensions>=4.5.0 in /home/martin/Contract_Q-A_RAG/venv/lib/python3.10/site-packages (from chromadb) (4.12.2)\n",
      "Requirement already satisfied: opentelemetry-sdk>=1.2.0 in /home/martin/Contract_Q-A_RAG/venv/lib/python3.10/site-packages (from chromadb) (1.25.0)\n",
      "Requirement already satisfied: tqdm>=4.65.0 in /home/martin/Contract_Q-A_RAG/venv/lib/python3.10/site-packages (from chromadb) (4.66.4)\n",
      "Requirement already satisfied: kubernetes>=28.1.0 in /home/martin/Contract_Q-A_RAG/venv/lib/python3.10/site-packages (from chromadb) (30.1.0)\n",
      "Requirement already satisfied: uvicorn[standard]>=0.18.3 in /home/martin/Contract_Q-A_RAG/venv/lib/python3.10/site-packages (from chromadb) (0.30.1)\n",
      "Requirement already satisfied: onnxruntime>=1.14.1 in /home/martin/Contract_Q-A_RAG/venv/lib/python3.10/site-packages (from chromadb) (1.18.1)\n",
      "Requirement already satisfied: grpcio>=1.58.0 in /home/martin/Contract_Q-A_RAG/venv/lib/python3.10/site-packages (from chromadb) (1.64.1)\n",
      "Requirement already satisfied: typer>=0.9.0 in /home/martin/Contract_Q-A_RAG/venv/lib/python3.10/site-packages (from chromadb) (0.12.3)\n",
      "Requirement already satisfied: mmh3>=4.0.1 in /home/martin/Contract_Q-A_RAG/venv/lib/python3.10/site-packages (from chromadb) (4.1.0)\n",
      "Requirement already satisfied: build>=1.0.3 in /home/martin/Contract_Q-A_RAG/venv/lib/python3.10/site-packages (from chromadb) (1.2.1)\n",
      "Requirement already satisfied: pydantic>=1.9 in /home/martin/Contract_Q-A_RAG/venv/lib/python3.10/site-packages (from chromadb) (2.8.2)\n",
      "Requirement already satisfied: tokenizers>=0.13.2 in /home/martin/Contract_Q-A_RAG/venv/lib/python3.10/site-packages (from chromadb) (0.19.1)\n",
      "Requirement already satisfied: overrides>=7.3.1 in /home/martin/Contract_Q-A_RAG/venv/lib/python3.10/site-packages (from chromadb) (7.7.0)\n",
      "Requirement already satisfied: opentelemetry-exporter-otlp-proto-grpc>=1.2.0 in /home/martin/Contract_Q-A_RAG/venv/lib/python3.10/site-packages (from chromadb) (1.25.0)\n",
      "Requirement already satisfied: bcrypt>=4.0.1 in /home/martin/Contract_Q-A_RAG/venv/lib/python3.10/site-packages (from chromadb) (4.1.3)\n",
      "Requirement already satisfied: chroma-hnswlib==0.7.3 in /home/martin/Contract_Q-A_RAG/venv/lib/python3.10/site-packages (from chromadb) (0.7.3)\n",
      "Requirement already satisfied: opentelemetry-instrumentation-fastapi>=0.41b0 in /home/martin/Contract_Q-A_RAG/venv/lib/python3.10/site-packages (from chromadb) (0.46b0)\n",
      "Requirement already satisfied: opentelemetry-api>=1.2.0 in /home/martin/Contract_Q-A_RAG/venv/lib/python3.10/site-packages (from chromadb) (1.25.0)\n",
      "Requirement already satisfied: pypika>=0.48.9 in /home/martin/Contract_Q-A_RAG/venv/lib/python3.10/site-packages (from chromadb) (0.48.9)\n",
      "Requirement already satisfied: httpx>=0.27.0 in /home/martin/Contract_Q-A_RAG/venv/lib/python3.10/site-packages (from chromadb) (0.27.0)\n",
      "Requirement already satisfied: orjson>=3.9.12 in /home/martin/Contract_Q-A_RAG/venv/lib/python3.10/site-packages (from chromadb) (3.10.6)\n",
      "Requirement already satisfied: fastapi>=0.95.2 in /home/martin/Contract_Q-A_RAG/venv/lib/python3.10/site-packages (from chromadb) (0.111.0)\n",
      "Requirement already satisfied: posthog>=2.4.0 in /home/martin/Contract_Q-A_RAG/venv/lib/python3.10/site-packages (from chromadb) (3.5.0)\n",
      "Requirement already satisfied: importlib-resources in /home/martin/Contract_Q-A_RAG/venv/lib/python3.10/site-packages (from chromadb) (6.4.0)\n",
      "Requirement already satisfied: async-timeout<5.0.0,>=4.0.0 in /home/martin/Contract_Q-A_RAG/venv/lib/python3.10/site-packages (from langchain) (4.0.3)\n",
      "Requirement already satisfied: langchain-text-splitters<0.3.0,>=0.2.0 in /home/martin/Contract_Q-A_RAG/venv/lib/python3.10/site-packages (from langchain) (0.2.2)\n",
      "Requirement already satisfied: aiosignal>=1.1.2 in /home/martin/Contract_Q-A_RAG/venv/lib/python3.10/site-packages (from aiohttp<4.0.0,>=3.8.3->langchain_community) (1.3.1)\n",
      "Requirement already satisfied: yarl<2.0,>=1.0 in /home/martin/Contract_Q-A_RAG/venv/lib/python3.10/site-packages (from aiohttp<4.0.0,>=3.8.3->langchain_community) (1.9.4)\n",
      "Requirement already satisfied: frozenlist>=1.1.1 in /home/martin/Contract_Q-A_RAG/venv/lib/python3.10/site-packages (from aiohttp<4.0.0,>=3.8.3->langchain_community) (1.4.1)\n",
      "Requirement already satisfied: attrs>=17.3.0 in /home/martin/Contract_Q-A_RAG/venv/lib/python3.10/site-packages (from aiohttp<4.0.0,>=3.8.3->langchain_community) (23.2.0)\n",
      "Requirement already satisfied: multidict<7.0,>=4.5 in /home/martin/Contract_Q-A_RAG/venv/lib/python3.10/site-packages (from aiohttp<4.0.0,>=3.8.3->langchain_community) (6.0.5)\n",
      "Requirement already satisfied: tomli>=1.1.0 in /home/martin/Contract_Q-A_RAG/venv/lib/python3.10/site-packages (from build>=1.0.3->chromadb) (2.0.1)\n",
      "Requirement already satisfied: pyproject_hooks in /home/martin/Contract_Q-A_RAG/venv/lib/python3.10/site-packages (from build>=1.0.3->chromadb) (1.1.0)\n",
      "Requirement already satisfied: typing-inspect<1,>=0.4.0 in /home/martin/Contract_Q-A_RAG/venv/lib/python3.10/site-packages (from dataclasses-json<0.7,>=0.5.7->langchain_community) (0.9.0)\n",
      "Requirement already satisfied: marshmallow<4.0.0,>=3.18.0 in /home/martin/Contract_Q-A_RAG/venv/lib/python3.10/site-packages (from dataclasses-json<0.7,>=0.5.7->langchain_community) (3.21.3)\n",
      "Requirement already satisfied: starlette<0.38.0,>=0.37.2 in /home/martin/Contract_Q-A_RAG/venv/lib/python3.10/site-packages (from fastapi>=0.95.2->chromadb) (0.37.2)\n",
      "Requirement already satisfied: jinja2>=2.11.2 in /home/martin/Contract_Q-A_RAG/venv/lib/python3.10/site-packages (from fastapi>=0.95.2->chromadb) (3.1.4)\n",
      "Requirement already satisfied: python-multipart>=0.0.7 in /home/martin/Contract_Q-A_RAG/venv/lib/python3.10/site-packages (from fastapi>=0.95.2->chromadb) (0.0.9)\n",
      "Requirement already satisfied: ujson!=4.0.2,!=4.1.0,!=4.2.0,!=4.3.0,!=5.0.0,!=5.1.0,>=4.0.1 in /home/martin/Contract_Q-A_RAG/venv/lib/python3.10/site-packages (from fastapi>=0.95.2->chromadb) (5.10.0)\n",
      "Requirement already satisfied: email_validator>=2.0.0 in /home/martin/Contract_Q-A_RAG/venv/lib/python3.10/site-packages (from fastapi>=0.95.2->chromadb) (2.2.0)\n",
      "Requirement already satisfied: fastapi-cli>=0.0.2 in /home/martin/Contract_Q-A_RAG/venv/lib/python3.10/site-packages (from fastapi>=0.95.2->chromadb) (0.0.4)\n",
      "Requirement already satisfied: httpcore==1.* in /home/martin/Contract_Q-A_RAG/venv/lib/python3.10/site-packages (from httpx>=0.27.0->chromadb) (1.0.5)\n",
      "Requirement already satisfied: certifi in /home/martin/Contract_Q-A_RAG/venv/lib/python3.10/site-packages (from httpx>=0.27.0->chromadb) (2024.7.4)\n",
      "Requirement already satisfied: idna in /home/martin/Contract_Q-A_RAG/venv/lib/python3.10/site-packages (from httpx>=0.27.0->chromadb) (3.7)\n",
      "Requirement already satisfied: sniffio in /home/martin/Contract_Q-A_RAG/venv/lib/python3.10/site-packages (from httpx>=0.27.0->chromadb) (1.3.1)\n",
      "Requirement already satisfied: anyio in /home/martin/Contract_Q-A_RAG/venv/lib/python3.10/site-packages (from httpx>=0.27.0->chromadb) (4.4.0)\n",
      "Requirement already satisfied: h11<0.15,>=0.13 in /home/martin/Contract_Q-A_RAG/venv/lib/python3.10/site-packages (from httpcore==1.*->httpx>=0.27.0->chromadb) (0.14.0)\n",
      "Requirement already satisfied: urllib3>=1.24.2 in /home/martin/Contract_Q-A_RAG/venv/lib/python3.10/site-packages (from kubernetes>=28.1.0->chromadb) (2.2.2)\n",
      "Requirement already satisfied: requests-oauthlib in /home/martin/Contract_Q-A_RAG/venv/lib/python3.10/site-packages (from kubernetes>=28.1.0->chromadb) (2.0.0)\n",
      "Requirement already satisfied: python-dateutil>=2.5.3 in /home/martin/Contract_Q-A_RAG/venv/lib/python3.10/site-packages (from kubernetes>=28.1.0->chromadb) (2.9.0.post0)\n",
      "Requirement already satisfied: google-auth>=1.0.1 in /home/martin/Contract_Q-A_RAG/venv/lib/python3.10/site-packages (from kubernetes>=28.1.0->chromadb) (2.31.0)\n",
      "Requirement already satisfied: oauthlib>=3.2.2 in /home/martin/Contract_Q-A_RAG/venv/lib/python3.10/site-packages (from kubernetes>=28.1.0->chromadb) (3.2.2)\n",
      "Requirement already satisfied: websocket-client!=0.40.0,!=0.41.*,!=0.42.*,>=0.32.0 in /home/martin/Contract_Q-A_RAG/venv/lib/python3.10/site-packages (from kubernetes>=28.1.0->chromadb) (1.8.0)\n",
      "Requirement already satisfied: six>=1.9.0 in /home/martin/Contract_Q-A_RAG/venv/lib/python3.10/site-packages (from kubernetes>=28.1.0->chromadb) (1.16.0)\n",
      "^C\n",
      "\u001b[31mERROR: Operation cancelled by user\u001b[0m\u001b[31m\n",
      "\u001b[0m\u001b[33mWARNING: You are using pip version 22.0.4; however, version 24.1.1 is available.\n",
      "You should consider upgrading via the '/home/martin/Contract_Q-A_RAG/venv/bin/python -m pip install --upgrade pip' command.\u001b[0m\u001b[33m\n",
      "\u001b[0m"
     ]
    }
   ],
   "source": [
    "! pip install langchain_community tiktoken langchain-openai langchainhub chromadb langchain"
   ]
  },
  {
   "cell_type": "code",
   "execution_count": 1,
   "metadata": {},
   "outputs": [],
   "source": [
    "import os\n",
    "os.chdir(\"../\")\n",
    "LANGCHAIN_TRACING_V2 = 'True'\n",
    "LANGCHAIN_ENDPOINT=\"https://api.smith.langchain.com\"\n",
    "os.environ['LANGCHAIN_API_KEY'] = \"LANGCHAIN_API_KEY\"  \n",
    "LANGCHAIN_PROJECT=\"rag-pipleline\"\n",
    "os.environ['OPENAI_API_KEY'] = \"OPENAI_API_KEY\""
   ]
  },
  {
   "cell_type": "code",
   "execution_count": 48,
   "metadata": {},
   "outputs": [],
   "source": [
    "from langchain.document_loaders import Docx2txtLoader# Importing Docx loader from Langchain\n",
    "from langchain.text_splitter import RecursiveCharacterTextSplitter # Importing text splitter from Langchain\n",
    "from langchain.embeddings import OpenAIEmbeddings # Importing OpenAI embeddings from Langchain\n",
    "from langchain.schema import Document # Importing Document schema from Langchain\n",
    "from langchain.vectorstores.chroma import Chroma # Importing Chroma vector store from Langchain\n",
    "from langchain.chat_models import ChatOpenAI # Import OpenAI LLM\n",
    "from langchain_core.output_parsers import StrOutputParser\n",
    "from langchain_core.runnables import RunnablePassthrough\n",
    "from langchain import hub\n",
    "from langchain.prompts import ChatPromptTemplate\n",
    "from langchain.load import dumps, loads\n",
    "from langchain_openai import OpenAIEmbeddings\n",
    "from langchain_community.vectorstores import Chroma\n"
   ]
  },
  {
   "cell_type": "code",
   "execution_count": 68,
   "metadata": {},
   "outputs": [],
   "source": [
    "#load Docx files\n",
    "loader = Docx2txtLoader(\"/home/martin/agentic/data/Raptor_Contract.docx\")\n",
    "docs = loader.load()\n",
    "\n",
    "# Split\n",
    "text_splitter = RecursiveCharacterTextSplitter(chunk_size=1000, chunk_overlap=200)\n",
    "splits = text_splitter.split_documents(docs)\n",
    "\n"
   ]
  },
  {
   "cell_type": "code",
   "execution_count": null,
   "metadata": {},
   "outputs": [],
   "source": [
    "splits"
   ]
  },
  {
   "cell_type": "code",
   "execution_count": 73,
   "metadata": {},
   "outputs": [],
   "source": [
    "# Embed\n",
    "vectorstore = Chroma.from_documents(\n",
    "    documents=splits, \n",
    "    embedding=OpenAIEmbeddings()\n",
    "    )"
   ]
  },
  {
   "cell_type": "code",
   "execution_count": 57,
   "metadata": {},
   "outputs": [],
   "source": [
    "\n",
    "retriever = vectorstore.as_retriever(search_kwargs={\"k\": 1})"
   ]
  },
  {
   "cell_type": "code",
   "execution_count": 58,
   "metadata": {},
   "outputs": [
    {
     "data": {
      "text/plain": [
       "ChatPromptTemplate(input_variables=['context', 'question'], messages=[HumanMessagePromptTemplate(prompt=PromptTemplate(input_variables=['context', 'question'], template='Answer the question based only on the following context:\\n{context}\\n\\nQuestion: {question}\\n'))])"
      ]
     },
     "execution_count": 58,
     "metadata": {},
     "output_type": "execute_result"
    }
   ],
   "source": [
    "# Prompt\n",
    "template = \"\"\"Answer the question based only on the following context:\n",
    "{context}\n",
    "\n",
    "Question: {question}\n",
    "\"\"\"\n",
    "\n",
    "prompt = ChatPromptTemplate.from_template(template)\n",
    "prompt"
   ]
  },
  {
   "cell_type": "code",
   "execution_count": 59,
   "metadata": {},
   "outputs": [],
   "source": [
    "\n",
    "# LLM\n",
    "llm = ChatOpenAI(model_name=\"gpt-3.5-turbo\", temperature=0)\n",
    "\n",
    "# Post-processing\n",
    "def format_docs(docs):\n",
    "    return \"\\n\\n\".join(doc.page_content for doc in docs)"
   ]
  },
  {
   "cell_type": "code",
   "execution_count": null,
   "metadata": {},
   "outputs": [],
   "source": [
    "# Chain\n",
    "rag_chain = (\n",
    "    {\"context\": retriever | format_docs, \"question\": RunnablePassthrough()}\n",
    "    | prompt\n",
    "    | llm\n",
    "    | StrOutputParser()\n",
    ")\n",
    "\n",
    "# Question\n",
    "rag_chain.invoke(\"Under what circumstances and to what extent the Sellers are responsible for a breach of representations and warranties?\")"
   ]
  },
  {
   "cell_type": "code",
   "execution_count": 61,
   "metadata": {},
   "outputs": [],
   "source": [
    "# Multi Query: Different Perspectives\n",
    "template = \"\"\"You are an AI language model assistant. Your task is to generate five \n",
    "different versions of the given user question to retrieve relevant documents from a vector \n",
    "database. By generating multiple perspectives on the user question, your goal is to help\n",
    "the user overcome some of the limitations of the distance-based similarity search. \n",
    "Provide these alternative questions separated by newlines. Original question: {question}\"\"\"\n",
    "prompt_perspectives = ChatPromptTemplate.from_template(template)\n",
    "\n",
    "generate_queries = (\n",
    "    prompt_perspectives \n",
    "    | ChatOpenAI(temperature=0) \n",
    "    | StrOutputParser() \n",
    "    | (lambda x: x.split(\"\\n\"))\n",
    ")"
   ]
  },
  {
   "cell_type": "code",
   "execution_count": 64,
   "metadata": {},
   "outputs": [
    {
     "data": {
      "text/plain": [
       "1"
      ]
     },
     "execution_count": 64,
     "metadata": {},
     "output_type": "execute_result"
    }
   ],
   "source": [
    "def get_unique_union(documents: list[list]):\n",
    "    \"\"\" Unique union of retrieved docs \"\"\"\n",
    "    # Flatten list of lists, and convert each Document to string\n",
    "    flattened_docs = [dumps(doc) for sublist in documents for doc in sublist]\n",
    "    # Get unique documents\n",
    "    unique_docs = list(set(flattened_docs))\n",
    "    # Return\n",
    "    return [loads(doc) for doc in unique_docs]\n",
    "\n",
    "# Retrieve\n",
    "question = \"Under what circumstances and to what extent the Sellers are responsible for a breach of representations and warranties??\"\n",
    "retrieval_chain = generate_queries | retriever.map() | get_unique_union\n",
    "docs = retrieval_chain.invoke({\"question\":question})\n",
    "len(docs)"
   ]
  },
  {
   "cell_type": "code",
   "execution_count": 65,
   "metadata": {},
   "outputs": [
    {
     "data": {
      "text/plain": [
       "'The Sellers are responsible for a breach of representations and warranties to the extent that they severally (and not jointly) indemnify the Sellers’ Representative from any Losses arising out of its serving as the Sellers’ Representative, in accordance with its Pro Rata Percentage. However, the Sellers will not be responsible for Losses arising out of or caused by the Sellers’ Representative’s gross negligence, bad faith, or willful misconduct.'"
      ]
     },
     "execution_count": 65,
     "metadata": {},
     "output_type": "execute_result"
    }
   ],
   "source": [
    "from operator import itemgetter\n",
    "# RAG\n",
    "template = \"\"\"Answer the following question based on this context:\n",
    "\n",
    "{context}\n",
    "\n",
    "Question: {question}\n",
    "\"\"\"\n",
    "\n",
    "prompt = ChatPromptTemplate.from_template(template)\n",
    "\n",
    "llm = ChatOpenAI(temperature=0)\n",
    "\n",
    "final_rag_chain = (\n",
    "    {\"context\": retrieval_chain, \n",
    "     \"question\": itemgetter(\"question\")} \n",
    "    | prompt\n",
    "    | llm\n",
    "    | StrOutputParser()\n",
    ")\n",
    "\n",
    "final_rag_chain.invoke({\"question\":question})"
   ]
  },
  {
   "cell_type": "code",
   "execution_count": 66,
   "metadata": {},
   "outputs": [],
   "source": [
    "#RAG-Fusion\n",
    "template = \"\"\"You are a helpful assistant that generates multiple search queries based on a single input query. \\n\n",
    "Generate multiple search queries related to: {question} \\n\n",
    "Output (4 queries):\"\"\"\n",
    "prompt_rag_fusion = ChatPromptTemplate.from_template(template)"
   ]
  },
  {
   "cell_type": "code",
   "execution_count": 75,
   "metadata": {},
   "outputs": [],
   "source": [
    "generate_queries = (\n",
    "    prompt_rag_fusion \n",
    "    | ChatOpenAI(temperature=0)\n",
    "    | StrOutputParser() \n",
    "    | (lambda x: x.split(\"\\n\"))\n",
    ")"
   ]
  },
  {
   "cell_type": "code",
   "execution_count": 77,
   "metadata": {},
   "outputs": [
    {
     "data": {
      "text/plain": [
       "1"
      ]
     },
     "execution_count": 77,
     "metadata": {},
     "output_type": "execute_result"
    }
   ],
   "source": [
    "from langchain.load import dumps, loads\n",
    "\n",
    "def reciprocal_rank_fusion(results: list[list], k=60):\n",
    "    \"\"\" Reciprocal_rank_fusion that takes multiple lists of ranked documents \n",
    "        and an optional parameter k used in the RRF formula \"\"\"\n",
    "    \n",
    "    # Initialize a dictionary to hold fused scores for each unique document\n",
    "    fused_scores = {}\n",
    "\n",
    "    # Iterate through each list of ranked documents\n",
    "    for docs in results:\n",
    "        # Iterate through each document in the list, with its rank (position in the list)\n",
    "        for rank, doc in enumerate(docs):\n",
    "            # Convert the document to a string format to use as a key (assumes documents can be serialized to JSON)\n",
    "            doc_str = dumps(doc)\n",
    "            # If the document is not yet in the fused_scores dictionary, add it with an initial score of 0\n",
    "            if doc_str not in fused_scores:\n",
    "                fused_scores[doc_str] = 0\n",
    "            # Retrieve the current score of the document, if any\n",
    "            previous_score = fused_scores[doc_str]\n",
    "            # Update the score of the document using the RRF formula: 1 / (rank + k)\n",
    "            fused_scores[doc_str] += 1 / (rank + k)\n",
    "\n",
    "    # Sort the documents based on their fused scores in descending order to get the final reranked results\n",
    "    reranked_results = [\n",
    "        (loads(doc), score)\n",
    "        for doc, score in sorted(fused_scores.items(), key=lambda x: x[1], reverse=True)\n",
    "    ]\n",
    "\n",
    "    # Return the reranked results as a list of tuples, each containing the document and its fused score\n",
    "    return reranked_results\n",
    "\n",
    "question = \"Under what circumstances and to what extent the Sellers are responsible for a breach of representations and warranties?\"\n",
    "retrieval_chain_rag_fusion = generate_queries | retriever.map() | reciprocal_rank_fusion\n",
    "docs = retrieval_chain_rag_fusion.invoke({\"question\": question})\n",
    "len(docs)"
   ]
  },
  {
   "cell_type": "code",
   "execution_count": 78,
   "metadata": {},
   "outputs": [
    {
     "data": {
      "text/plain": [
       "'The Sellers are responsible for a breach of representations and warranties to the extent that they severally (and not jointly) indemnify the Sellers’ Representative from any Losses arising out of its serving as the Sellers’ Representative, in accordance with their Pro Rata Percentage. However, the Sellers will not be responsible for Losses arising out of or caused by the Sellers’ Representative’s gross negligence, bad faith, or willful misconduct.'"
      ]
     },
     "execution_count": 78,
     "metadata": {},
     "output_type": "execute_result"
    }
   ],
   "source": [
    "# RAG\n",
    "template = \"\"\"Answer the following question based on this context:\n",
    "\n",
    "{context}\n",
    "\n",
    "Question: {question}\n",
    "\"\"\"\n",
    "\n",
    "prompt = ChatPromptTemplate.from_template(template)\n",
    "\n",
    "llm = ChatOpenAI(temperature=0)\n",
    "\n",
    "final_rag_chain = (\n",
    "    {\"context\": retrieval_chain_rag_fusion, \n",
    "     \"question\": itemgetter(\"question\")} \n",
    "    | prompt\n",
    "    | llm\n",
    "    | StrOutputParser()\n",
    ")\n",
    "\n",
    "final_rag_chain.invoke({\"question\":question})"
   ]
  }
 ],
 "metadata": {
  "kernelspec": {
   "display_name": "venv",
   "language": "python",
   "name": "python3"
  },
  "language_info": {
   "codemirror_mode": {
    "name": "ipython",
    "version": 3
   },
   "file_extension": ".py",
   "mimetype": "text/x-python",
   "name": "python",
   "nbconvert_exporter": "python",
   "pygments_lexer": "ipython3",
   "version": "3.10.4"
  }
 },
 "nbformat": 4,
 "nbformat_minor": 2
}

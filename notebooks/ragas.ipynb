{
 "cells": [
  {
   "cell_type": "code",
   "execution_count": 24,
   "metadata": {},
   "outputs": [],
   "source": [
    "import os\n",
    "os.chdir(\"../\")\n",
    "LANGCHAIN_TRACING_V2 = 'True'\n",
    "LANGCHAIN_ENDPOINT=\"https://api.smith.langchain.com\"\n",
    "os.environ['LANGCHAIN_API_KEY'] = \"LANGCHAIN_API_KEY\"  \n",
    "LANGCHAIN_PROJECT=\"rag-pipleline\"\n",
    "os.environ['OPENAI_API_KEY'] = \"OPENAI_API_KEY\""
   ]
  },
  {
   "cell_type": "code",
   "execution_count": 21,
   "metadata": {},
   "outputs": [],
   "source": [
    "from langchain.document_loaders import Docx2txtLoader# Importing Docx loader from Langchain\n",
    "from langchain.text_splitter import RecursiveCharacterTextSplitter # Importing text splitter from Langchain\n",
    "from langchain.embeddings import OpenAIEmbeddings # Importing OpenAI embeddings from Langchain\n",
    "from langchain.schema import Document # Importing Document schema from Langchain\n",
    "from langchain.vectorstores.chroma import Chroma # Importing Chroma vector store from Langchain\n",
    "from langchain.chat_models import ChatOpenAI # Import OpenAI LLM\n",
    "from langchain_core.output_parsers import StrOutputParser\n",
    "from langchain_core.runnables import RunnablePassthrough\n",
    "from langchain.prompts import ChatPromptTemplate\n",
    "from langchain_community.vectorstores import Chroma"
   ]
  },
  {
   "cell_type": "code",
   "execution_count": null,
   "metadata": {},
   "outputs": [],
   "source": [
    "#load Docx files\n",
    "loader = Docx2txtLoader(\"/home/martin/Contract_Q-A_RAG/data/Raptor Q&A2.docx\")\n",
    "docs = loader.load()"
   ]
  },
  {
   "cell_type": "code",
   "execution_count": 9,
   "metadata": {},
   "outputs": [
    {
     "data": {
      "text/plain": [
       "[Document(metadata={'source': '/home/martin/Contract_Q-A_RAG/data/Raptor Q&A2.docx'}, page_content='Q1: Under what circumstances and to what extent the Sellers are responsible for a breach of representations and warranties?\\n\\nA1:  Except in the case of fraud, the Sellers have no liability for breach of representations and warranties (See section 10.01)\\n\\nQ1a: Would the Sellers be responsible if after the closing it is determined that there were inaccuracies in the representation provided by them where such inaccuracies are the resolute of the Sellers’ gross negligence? \\n\\nA1a: No\\n\\nQ2:   How much is the escrow amount?\\n\\nA2: The escrow amount is equal to $1,000,000.\\n\\nQ2a: Is escrow amount grete then the Retention Amount ?\\n\\nA2a: No. \\n\\nQ3: What is the purpose of the escrow? \\n\\nA3: To serve as a recourse of the Buyer in case of post-closing adjustments of the purchase price. (See section 2.07(e)).\\n\\n\\tQ3a: May the Escrow Amount serve as a recourse for the Buyer in case of breach of representations by the Company?\\n\\n\\tA3a: No\\n\\nQ4:  Are there any conditions to the closing?\\n\\nA4: No, as the signing and closing are simultaneous.\\n\\nQ5: Are Change of Control Payments considered a Seller Transaction Expense? \\n\\nA5: Yes. (See defining of Sellers Transaction Expenses).\\n\\nQ6: Would the aggregate amount payable by the Buyer to the Sellers be affected if it is determined that the actual Closing Debt Amount is greater the estimated Closing Debut Amount?\\n\\nA6: Yes (See Section 2.07)\\n\\nQ7: Does the Buyer need to pay the Employees Closing Bonus Amount directly to the Company’s employees?\\n\\nA7: No. (See Section 2.10)  \\n\\nQ8: Does any of the Sellers provide a representation with respect to any Tax matters related to the Company?\\n\\nA8: No. Only the Company provides such a representation. \\n\\nQ9: Is any of the Sellers bound by a non-competition covenant after the Closing? \\n\\nA9: No. \\n\\nQ10: Whose consent is required for the assignment of the Agreement by the Buyer? \\n\\nA10: If the assignment is to an Affiliate or purchaser of all of the Buyer’s assets, no consent is required. Otherwise, the consent of the Company and the Seller Representative is required. \\n\\n\\tQ10a: Does the Buyer needs the Sellers’ consent in the event of an assignment of the Agreement to a third party who is not a Buyer’s Affiliates?\\n\\n\\tA10a: No. If the assignment is not part of a sale of all or substantially all of the Buyer’s assets, the assignment requires the consent of the Company and the Seller’s Representative.')]"
      ]
     },
     "execution_count": 9,
     "metadata": {},
     "output_type": "execute_result"
    }
   ],
   "source": [
    "docs"
   ]
  },
  {
   "cell_type": "code",
   "execution_count": 5,
   "metadata": {},
   "outputs": [],
   "source": [
    "#load Docx files\n",
    "loader = Docx2txtLoader(\"/home/martin/Contract_Q-A_RAG/data/Raptor Q&A2.docx\")\n",
    "docs = loader.load()\n",
    "\n",
    "# Split\n",
    "text_splitter = RecursiveCharacterTextSplitter(chunk_size=400, chunk_overlap=0)\n",
    "splits = text_splitter.split_documents(docs)\n",
    "\n"
   ]
  },
  {
   "cell_type": "code",
   "execution_count": 6,
   "metadata": {},
   "outputs": [
    {
     "name": "stderr",
     "output_type": "stream",
     "text": [
      "/home/martin/Contract_Q-A_RAG/venv/lib/python3.10/site-packages/langchain_core/_api/deprecation.py:139: LangChainDeprecationWarning: The class `OpenAIEmbeddings` was deprecated in LangChain 0.0.9 and will be removed in 0.3.0. An updated version of the class exists in the langchain-openai package and should be used instead. To use it run `pip install -U langchain-openai` and import as `from langchain_openai import OpenAIEmbeddings`.\n",
      "  warn_deprecated(\n"
     ]
    }
   ],
   "source": [
    "vectorstore = Chroma.from_documents(\n",
    "    documents=splits, \n",
    "    embedding=OpenAIEmbeddings()\n",
    "    )"
   ]
  },
  {
   "cell_type": "code",
   "execution_count": 7,
   "metadata": {},
   "outputs": [],
   "source": [
    "retriever = vectorstore.as_retriever()"
   ]
  },
  {
   "cell_type": "code",
   "execution_count": 8,
   "metadata": {},
   "outputs": [
    {
     "name": "stderr",
     "output_type": "stream",
     "text": [
      "/home/martin/Contract_Q-A_RAG/venv/lib/python3.10/site-packages/langchain_core/_api/deprecation.py:139: LangChainDeprecationWarning: The class `ChatOpenAI` was deprecated in LangChain 0.0.10 and will be removed in 0.3.0. An updated version of the class exists in the langchain-openai package and should be used instead. To use it run `pip install -U langchain-openai` and import as `from langchain_openai import ChatOpenAI`.\n",
      "  warn_deprecated(\n"
     ]
    }
   ],
   "source": [
    "# Define LLM\n",
    "llm = ChatOpenAI(model_name=\"gpt-3.5-turbo\", temperature=0)\n",
    "\n",
    "# Define prompt template\n",
    "template = \"\"\"You are an assistant for question-answering tasks. \n",
    "Use the following pieces of retrieved context to answer the question. \n",
    "If you don't know the answer, just say that you don't know. \n",
    "Use two sentences maximum and keep the answer concise.\n",
    "Question: {question} \n",
    "Context: {context} \n",
    "Answer:\n",
    "\"\"\"\n",
    "\n",
    "prompt = ChatPromptTemplate.from_template(template)\n",
    "\n",
    "# Setup RAG pipeline\n",
    "rag_chain = (\n",
    "    {\"context\": retriever,  \"question\": RunnablePassthrough()} \n",
    "    | prompt \n",
    "    | llm\n",
    "    | StrOutputParser() \n",
    ")"
   ]
  },
  {
   "cell_type": "code",
   "execution_count": null,
   "metadata": {},
   "outputs": [],
   "source": [
    "from datasets import Dataset\n",
    "from ragas import evaluate\n",
    "from ragas.metrics import (\n",
    "    faithfulness,\n",
    "    answer_relevancy,\n",
    "    context_recall,\n",
    "    context_precision,\n",
    ")\n",
    "\n",
    "questions = [\n",
    "    \"Under what circumstances and to what extent the Sellers are responsible for a breach of representations and warranties?\", \n",
    "    \"Are there any conditions to the closing?\",\n",
    "    \"Is any of the Sellers bound by a non-competition covenant after the Closing?\"\n",
    "]\n",
    "ground_truths = [\n",
    "    [\"Except in the case of fraud, the Sellers have no liability for breach of representations and warranties (See section 10.01)\"],\n",
    "    [\"No, as the signing and closing are simultaneous.\"],\n",
    "    [\"No.\"]\n",
    "]\n",
    "\n",
    "answers = []\n",
    "contexts = []\n",
    "\n",
    "# Inference\n",
    "for query in questions:\n",
    "    try:\n",
    "        answers.append(rag_chain.invoke(query))\n",
    "        contexts.append([doc.page_content for doc in retriever.get_relevant_documents(query)])\n",
    "    except Exception as e:\n",
    "        print(f\"Error processing query '{query}': {e}\")\n",
    "        answers.append(\"\")\n",
    "        contexts.append([])\n",
    "\n",
    "# To dict\n",
    "data = {\n",
    "    \"question\": questions,\n",
    "    \"answer\": answers,\n",
    "    \"contexts\": contexts,\n",
    "    \"ground_truths\": ground_truths\n",
    "}\n",
    "\n",
    "# Convert dict to dataset\n",
    "dataset = Dataset.from_dict(data)\n",
    "\n",
    "# Evaluation with exception handling\n",
    "try:\n",
    "    result = evaluate(\n",
    "        dataset=dataset, \n",
    "        metrics=[\n",
    "            context_precision,\n",
    "            context_recall,\n",
    "            faithfulness,\n",
    "            answer_relevancy,\n",
    "        ],\n",
    "        raise_exceptions=False  # Show warning instead of raising exception\n",
    "    )\n",
    "    df = result.to_pandas()\n",
    "    print(df)\n",
    "except Exception as e:\n",
    "    print(f\"Exception during evaluation: {e}\")\n"
   ]
  }
 ],
 "metadata": {
  "kernelspec": {
   "display_name": "venv",
   "language": "python",
   "name": "python3"
  },
  "language_info": {
   "codemirror_mode": {
    "name": "ipython",
    "version": 3
   },
   "file_extension": ".py",
   "mimetype": "text/x-python",
   "name": "python",
   "nbconvert_exporter": "python",
   "pygments_lexer": "ipython3",
   "version": "3.10.4"
  }
 },
 "nbformat": 4,
 "nbformat_minor": 2
}
